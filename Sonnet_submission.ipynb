{
 "cells": [
  {
   "cell_type": "code",
   "execution_count": 83,
   "metadata": {
    "ExecuteTime": {
     "end_time": "2019-01-27T19:09:50.815631Z",
     "start_time": "2019-01-27T19:09:50.777423Z"
    },
    "collapsed": true
   },
   "outputs": [],
   "source": [
    "import pandas as pd\n",
    "import numpy as np\n",
    "import nltk\n",
    "import string\n",
    "import matplotlib.pyplot as plt\n",
    "from sklearn.feature_extraction.text import TfidfTransformer\n",
    "from sklearn.feature_extraction.text import TfidfVectorizer\n",
    "\n",
    "from sklearn.feature_extraction.text import CountVectorizer\n",
    "from sklearn.metrics import confusion_matrix\n",
    "from sklearn import metrics\n",
    "from sklearn.metrics import roc_curve, auc\n",
    "from nltk.stem.porter import PorterStemmer\n",
    "\n",
    "import re\n",
    "import string\n",
    "from nltk.corpus import stopwords\n",
    "from nltk.stem import PorterStemmer\n",
    "from nltk.stem.wordnet import WordNetLemmatizer\n",
    "\n",
    "\n",
    "import pickle\n",
    "\n",
    "from tqdm import tqdm\n",
    "import os"
   ]
  },
  {
   "cell_type": "code",
   "execution_count": 84,
   "metadata": {
    "ExecuteTime": {
     "end_time": "2019-01-27T19:10:12.886148Z",
     "start_time": "2019-01-27T19:10:12.877571Z"
    },
    "collapsed": true
   },
   "outputs": [],
   "source": [
    "with open('./Sonnets.txt') as f:\n",
    "    content = f.readlines()\n",
    "\n",
    "content = [x.strip() for x in content] "
   ]
  },
  {
   "cell_type": "code",
   "execution_count": 85,
   "metadata": {
    "ExecuteTime": {
     "end_time": "2019-01-27T19:10:15.885467Z",
     "start_time": "2019-01-27T19:10:15.556222Z"
    },
    "scrolled": false
   },
   "outputs": [],
   "source": [
    "texts = []\n",
    "z = []\n",
    "for i in content:\n",
    "    if i.isnumeric():\n",
    "        texts.append(z)\n",
    "        z = []\n",
    "        continue\n",
    "    else:\n",
    "        z.append(i)"
   ]
  },
  {
   "cell_type": "code",
   "execution_count": 86,
   "metadata": {
    "ExecuteTime": {
     "end_time": "2019-01-27T19:10:18.301446Z",
     "start_time": "2019-01-27T19:10:18.276025Z"
    }
   },
   "outputs": [],
   "source": [
    "t = []\n",
    "for i in texts:\n",
    "    x = ' '.join(i)\n",
    "    t.append(x)"
   ]
  },
  {
   "cell_type": "code",
   "execution_count": 87,
   "metadata": {
    "ExecuteTime": {
     "end_time": "2019-01-27T19:10:20.639424Z",
     "start_time": "2019-01-27T19:10:20.631600Z"
    },
    "collapsed": true
   },
   "outputs": [],
   "source": [
    "data = pd.DataFrame(t[1:], columns=['sonnet'])"
   ]
  },
  {
   "cell_type": "code",
   "execution_count": 88,
   "metadata": {
    "ExecuteTime": {
     "end_time": "2019-01-27T19:10:21.634162Z",
     "start_time": "2019-01-27T19:10:21.614883Z"
    },
    "collapsed": true
   },
   "outputs": [],
   "source": [
    "data.to_csv('sonnets_tabular.csv')"
   ]
  },
  {
   "cell_type": "code",
   "execution_count": 89,
   "metadata": {
    "ExecuteTime": {
     "end_time": "2019-01-27T19:10:22.908565Z",
     "start_time": "2019-01-27T19:10:22.895255Z"
    },
    "collapsed": true
   },
   "outputs": [],
   "source": [
    "data = pd.read_csv('./sonnets_tabular.csv')"
   ]
  },
  {
   "cell_type": "code",
   "execution_count": 90,
   "metadata": {
    "ExecuteTime": {
     "end_time": "2019-01-27T19:10:24.202621Z",
     "start_time": "2019-01-27T19:10:24.185311Z"
    }
   },
   "outputs": [
    {
     "data": {
      "text/html": [
       "<div>\n",
       "<style scoped>\n",
       "    .dataframe tbody tr th:only-of-type {\n",
       "        vertical-align: middle;\n",
       "    }\n",
       "\n",
       "    .dataframe tbody tr th {\n",
       "        vertical-align: top;\n",
       "    }\n",
       "\n",
       "    .dataframe thead th {\n",
       "        text-align: right;\n",
       "    }\n",
       "</style>\n",
       "<table border=\"1\" class=\"dataframe\">\n",
       "  <thead>\n",
       "    <tr style=\"text-align: right;\">\n",
       "      <th></th>\n",
       "      <th>Unnamed: 0</th>\n",
       "      <th>sonnet</th>\n",
       "    </tr>\n",
       "  </thead>\n",
       "  <tbody>\n",
       "    <tr>\n",
       "      <th>0</th>\n",
       "      <td>0</td>\n",
       "      <td>From fairest creatures we desire increase, Th...</td>\n",
       "    </tr>\n",
       "    <tr>\n",
       "      <th>1</th>\n",
       "      <td>1</td>\n",
       "      <td>When forty winters shall besiege thy brow, An...</td>\n",
       "    </tr>\n",
       "    <tr>\n",
       "      <th>2</th>\n",
       "      <td>2</td>\n",
       "      <td>Look in thy glass and tell the face thou view...</td>\n",
       "    </tr>\n",
       "    <tr>\n",
       "      <th>3</th>\n",
       "      <td>3</td>\n",
       "      <td>Unthrifty loveliness why dost thou spend, Upo...</td>\n",
       "    </tr>\n",
       "    <tr>\n",
       "      <th>4</th>\n",
       "      <td>4</td>\n",
       "      <td>Those hours that with gentle work did frame T...</td>\n",
       "    </tr>\n",
       "  </tbody>\n",
       "</table>\n",
       "</div>"
      ],
      "text/plain": [
       "   Unnamed: 0                                             sonnet\n",
       "0           0   From fairest creatures we desire increase, Th...\n",
       "1           1   When forty winters shall besiege thy brow, An...\n",
       "2           2   Look in thy glass and tell the face thou view...\n",
       "3           3   Unthrifty loveliness why dost thou spend, Upo...\n",
       "4           4   Those hours that with gentle work did frame T..."
      ]
     },
     "execution_count": 90,
     "metadata": {},
     "output_type": "execute_result"
    }
   ],
   "source": [
    "data.head()"
   ]
  },
  {
   "cell_type": "code",
   "execution_count": 91,
   "metadata": {
    "ExecuteTime": {
     "end_time": "2019-01-27T19:10:25.489292Z",
     "start_time": "2019-01-27T19:10:25.471933Z"
    }
   },
   "outputs": [
    {
     "name": "stdout",
     "output_type": "stream",
     "text": [
      " From fairest creatures we desire increase, That thereby beautyâ€™s rose might never die, But as the riper should by time decease, His tender heir might bear his memory: But thou contracted to thine own bright eyes, Feedâ€™st thy lightâ€™s flame with self-substantial fuel, Making a famine where abundance lies, Thy self thy foe, to thy sweet self too cruel: Thou that art now the worldâ€™s fresh ornament, And only herald to the gaudy spring, Within thine own bud buriest thy content, And, tender churl, makâ€™st waste in niggarding: Pity the world, or else this glutton be, To eat the worldâ€™s due, by the grave and thee.  \n",
      "==================================================\n",
      " As fast as thou shalt wane so fast thou growâ€™st, In one of thine, from that which thou departest, And that fresh blood which youngly thou bestowâ€™st, Thou mayst call thine, when thou from youth convertest, Herein lives wisdom, beauty, and increase, Without this folly, age, and cold decay, If all were minded so, the times should cease, And threescore year would make the world away: Let those whom nature hath not made for store, Harsh, featureless, and rude, barrenly perish: Look whom she best endowed, she gave thee more; Which bounteous gift thou shouldst in bounty cherish: She carved thee for her seal, and meant thereby, Thou shouldst print more, not let that copy die.  \n",
      "==================================================\n",
      " But wherefore do not you a mightier way Make war upon this bloody tyrant Time? And fortify your self in your decay With means more blessed than my barren rhyme? Now stand you on the top of happy hours, And many maiden gardens yet unset, With virtuous wish would bear you living flowers, Much liker than your painted counterfeit: So should the lines of life that life repair Which this (Timeâ€™s pencil) or my pupil pen Neither in inward worth nor outward fair Can make you live your self in eyes of men. To give away your self, keeps your self still, And you must live drawn by your own sweet skill.  \n",
      "==================================================\n",
      " How heavy do I journey on the way, When what I seek (my weary travelâ€™s end) Doth teach that case and that repose to say â€™Thus far the miles are measured from thy friend.â€™ The beast that bears me, tired with my woe, Plods dully on, to bear that weight in me, As if by some instinct the wretch did know His rider loved not speed being made from thee: The bloody spur cannot provoke him on, That sometimes anger thrusts into his hide, Which heavily he answers with a groan, More sharp to me than spurring to his side, For that same groan doth put this in my mind, My grief lies onward and my joy behind.  \n",
      "==================================================\n"
     ]
    }
   ],
   "source": [
    "# printing some random sonnets\n",
    "sent_0 = data['sonnet'].values[0]\n",
    "print(sent_0)\n",
    "print(\"=\"*50)\n",
    "\n",
    "sent_10 = data['sonnet'].values[10]\n",
    "print(sent_10)\n",
    "print(\"=\"*50)\n",
    "\n",
    "sent_15 = data['sonnet'].values[15]\n",
    "print(sent_15)\n",
    "print(\"=\"*50)\n",
    "\n",
    "sent_49 = data['sonnet'].values[49]\n",
    "print(sent_49)\n",
    "print(\"=\"*50)"
   ]
  },
  {
   "cell_type": "code",
   "execution_count": 92,
   "metadata": {
    "ExecuteTime": {
     "end_time": "2019-01-27T19:10:28.111210Z",
     "start_time": "2019-01-27T19:10:28.101824Z"
    }
   },
   "outputs": [
    {
     "name": "stdout",
     "output_type": "stream",
     "text": [
      " From fairest creatures we desire increase, That thereby beautyâ€™s rose might never die, But as the riper should by time decease, His tender heir might bear his memory: But thou contracted to thine own bright eyes, Feedâ€™st thy lightâ€™s flame with self-substantial fuel, Making a famine where abundance lies, Thy self thy foe, to thy sweet self too cruel: Thou that art now the worldâ€™s fresh ornament, And only herald to the gaudy spring, Within thine own bud buriest thy content, And, tender churl, makâ€™st waste in niggarding: Pity the world, or else this glutton be, To eat the worldâ€™s due, by the grave and thee.  \n"
     ]
    }
   ],
   "source": [
    "# remove urls from text python\n",
    "sent_0 = re.sub(r\"http\\S+\", \"\", sent_0)\n",
    "sent_10 = re.sub(r\"http\\S+\", \"\", sent_10)\n",
    "sent_15 = re.sub(r\"http\\S+\", \"\", sent_15)\n",
    "sent_49 = re.sub(r\"http\\S+\", \"\", sent_49)\n",
    "\n",
    "print(sent_0)"
   ]
  },
  {
   "cell_type": "code",
   "execution_count": 93,
   "metadata": {
    "ExecuteTime": {
     "end_time": "2019-01-27T19:10:29.456816Z",
     "start_time": "2019-01-27T19:10:29.434988Z"
    },
    "collapsed": true
   },
   "outputs": [],
   "source": [
    "# https://stackoverflow.com/a/47091490/4084039\n",
    "import re\n",
    "\n",
    "def decontracted(phrase):\n",
    "    # specific\n",
    "    phrase = re.sub(r\"won't\", \"will not\", phrase)\n",
    "    phrase = re.sub(r\"can\\'t\", \"can not\", phrase)\n",
    "\n",
    "    # general\n",
    "    phrase = re.sub(r\"n\\'t\", \" not\", phrase)\n",
    "    phrase = re.sub(r\"\\'re\", \" are\", phrase)\n",
    "    phrase = re.sub(r\"\\'s\", \" is\", phrase)\n",
    "    phrase = re.sub(r\"\\'d\", \" would\", phrase)\n",
    "    phrase = re.sub(r\"\\'ll\", \" will\", phrase)\n",
    "    phrase = re.sub(r\"\\'t\", \" not\", phrase)\n",
    "    phrase = re.sub(r\"\\'ve\", \" have\", phrase)\n",
    "    phrase = re.sub(r\"\\'m\", \" am\", phrase)\n",
    "    return phrase"
   ]
  },
  {
   "cell_type": "code",
   "execution_count": 94,
   "metadata": {
    "ExecuteTime": {
     "end_time": "2019-01-27T19:10:30.114948Z",
     "start_time": "2019-01-27T19:10:30.102980Z"
    }
   },
   "outputs": [
    {
     "name": "stdout",
     "output_type": "stream",
     "text": [
      " But wherefore do not you a mightier way Make war upon this bloody tyrant Time? And fortify your self in your decay With means more blessed than my barren rhyme? Now stand you on the top of happy hours, And many maiden gardens yet unset, With virtuous wish would bear you living flowers, Much liker than your painted counterfeit: So should the lines of life that life repair Which this (Timeâ€™s pencil) or my pupil pen Neither in inward worth nor outward fair Can make you live your self in eyes of men. To give away your self, keeps your self still, And you must live drawn by your own sweet skill.  \n",
      "==================================================\n"
     ]
    }
   ],
   "source": [
    "sent_15 = decontracted(sent_15)\n",
    "print(sent_15)\n",
    "print(\"=\"*50)"
   ]
  },
  {
   "cell_type": "code",
   "execution_count": 95,
   "metadata": {
    "ExecuteTime": {
     "end_time": "2019-01-27T19:10:30.805701Z",
     "start_time": "2019-01-27T19:10:30.799444Z"
    }
   },
   "outputs": [
    {
     "name": "stdout",
     "output_type": "stream",
     "text": [
      "From fairest creatures we desire increase, That thereby beautyâ€™s rose might never die, But as the riper should by time decease, His tender heir might bear his memory: But thou contracted to thine own bright eyes, Feedâ€™st thy lightâ€™s flame with self-substantial fuel, Making a famine where abundance lies, Thy self thy foe, to thy sweet self too cruel: Thou that art now the worldâ€™s fresh ornament, And only herald to the gaudy spring, Within thine own bud buriest thy content, And, tender churl, makâ€™st waste in niggarding: Pity the world, or else this glutton be, To eat the worldâ€™s due, by the grave and thee.\n"
     ]
    }
   ],
   "source": [
    "#remove words with numbers python: https://stackoverflow.com/a/18082370/4084039\n",
    "sent_0 = re.sub(\"\\S*\\d\\S*\", \"\", sent_0).strip()\n",
    "print(sent_0)"
   ]
  },
  {
   "cell_type": "code",
   "execution_count": 96,
   "metadata": {
    "ExecuteTime": {
     "end_time": "2019-01-27T19:10:31.568639Z",
     "start_time": "2019-01-27T19:10:31.563178Z"
    }
   },
   "outputs": [
    {
     "name": "stdout",
     "output_type": "stream",
     "text": [
      " But wherefore do not you a mightier way Make war upon this bloody tyrant Time And fortify your self in your decay With means more blessed than my barren rhyme Now stand you on the top of happy hours And many maiden gardens yet unset With virtuous wish would bear you living flowers Much liker than your painted counterfeit So should the lines of life that life repair Which this Time s pencil or my pupil pen Neither in inward worth nor outward fair Can make you live your self in eyes of men To give away your self keeps your self still And you must live drawn by your own sweet skill \n"
     ]
    }
   ],
   "source": [
    "#remove spacial character: https://stackoverflow.com/a/5843547/4084039\n",
    "sent_15 = re.sub('[^A-Za-z0-9]+', ' ', sent_15)\n",
    "print(sent_15)"
   ]
  },
  {
   "cell_type": "code",
   "execution_count": 97,
   "metadata": {
    "ExecuteTime": {
     "end_time": "2019-01-27T19:10:32.262346Z",
     "start_time": "2019-01-27T19:10:32.246681Z"
    },
    "collapsed": true
   },
   "outputs": [],
   "source": [
    "stopwords= set(['br', 'the', 'i', 'me', 'my', 'myself', 'we', 'our', 'ours', 'ourselves', 'you', \"you're\", \"you've\",\\\n",
    "            \"you'll\", \"you'd\", 'your', 'yours', 'yourself', 'yourselves', 'he', 'him', 'his', 'himself', \\\n",
    "            'she', \"she's\", 'her', 'hers', 'herself', 'it', \"it's\", 'its', 'itself', 'they', 'them', 'their',\\\n",
    "            'theirs', 'themselves', 'what', 'which', 'who', 'whom', 'this', 'that', \"that'll\", 'these', 'those', \\\n",
    "            'am', 'is', 'are', 'was', 'were', 'be', 'been', 'being', 'have', 'has', 'had', 'having', 'do', 'does', \\\n",
    "            'did', 'doing', 'a', 'an', 'the', 'and', 'but', 'if', 'or', 'because', 'as', 'until', 'while', 'of', \\\n",
    "            'at', 'by', 'for', 'with', 'about', 'against', 'between', 'into', 'through', 'during', 'before', 'after',\\\n",
    "            'above', 'below', 'to', 'from', 'up', 'down', 'in', 'out', 'on', 'off', 'over', 'under', 'again', 'further',\\\n",
    "            'then', 'once', 'here', 'there', 'when', 'where', 'why', 'how', 'all', 'any', 'both', 'each', 'few', 'more',\\\n",
    "            'most', 'other', 'some', 'such', 'only', 'own', 'same', 'so', 'than', 'too', 'very', \\\n",
    "            's', 't', 'can', 'will', 'just', 'don', \"don't\", 'should', \"should've\", 'now', 'd', 'll', 'm', 'o', 're', \\\n",
    "            've', 'y', 'ain', 'aren', \"aren't\", 'couldn', \"couldn't\", 'didn', \"didn't\", 'doesn', \"doesn't\", 'hadn',\\\n",
    "            \"hadn't\", 'hasn', \"hasn't\", 'haven', \"haven't\", 'isn', \"isn't\", 'ma', 'mightn', \"mightn't\", 'mustn',\\\n",
    "            \"mustn't\", 'needn', \"needn't\", 'shan', \"shan't\", 'shouldn', \"shouldn't\", 'wasn', \"wasn't\", 'weren', \"weren't\", \\\n",
    "            'won', \"won't\", 'wouldn', \"wouldn't\"])"
   ]
  },
  {
   "cell_type": "code",
   "execution_count": 98,
   "metadata": {
    "ExecuteTime": {
     "end_time": "2019-01-27T19:10:33.101543Z",
     "start_time": "2019-01-27T19:10:33.026081Z"
    }
   },
   "outputs": [
    {
     "name": "stderr",
     "output_type": "stream",
     "text": [
      "100%|██████████████████████████████████████| 153/153 [00:00<00:00, 1416.57it/s]\n"
     ]
    }
   ],
   "source": [
    "# Combining all the above stundents \n",
    "from tqdm import tqdm\n",
    "preprocessed_sonnets = []\n",
    "# tqdm is for printing the status bar\n",
    "for sentance in tqdm(data['sonnet'].values):\n",
    "    sentance = re.sub(r\"http\\S+\", \"\", sentance)\n",
    "     #sentance = BeautifulSoup(sentance, 'lxml').get_text()\n",
    "    sentance = decontracted(sentance)\n",
    "    sentance = re.sub(\"\\S*\\d\\S*\", \"\", sentance).strip()\n",
    "    sentance = re.sub('[^A-Za-z]+', ' ', sentance)\n",
    "    # https://gist.github.com/sebleier/554280\n",
    "    sentance = ' '.join(e.lower() for e in sentance.split() if e.lower() not in stopwords)\n",
    "    preprocessed_sonnets.append(sentance.strip())"
   ]
  },
  {
   "cell_type": "code",
   "execution_count": 99,
   "metadata": {
    "ExecuteTime": {
     "end_time": "2019-01-27T19:10:34.026655Z",
     "start_time": "2019-01-27T19:10:34.016993Z"
    }
   },
   "outputs": [
    {
     "data": {
      "text/plain": [
       "['fairest creatures desire increase thereby beauty rose might never die riper time decease tender heir might bear memory thou contracted thine bright eyes feed st thy light flame self substantial fuel making famine abundance lies thy self thy foe thy sweet self cruel thou art world fresh ornament herald gaudy spring within thine bud buriest thy content tender churl mak st waste niggarding pity world else glutton eat world due grave thee',\n",
       " 'forty winters shall besiege thy brow dig deep trenches thy beauty field thy youth proud livery gazed tattered weed small worth held asked thy beauty lies treasure thy lusty days say within thine deep sunken eyes eating shame thriftless praise much praise deserv thy beauty use thou couldst answer fair child mine shall sum count make old excuse proving beauty succession thine new made thou art old see thy blood warm thou feel st cold']"
      ]
     },
     "execution_count": 99,
     "metadata": {},
     "output_type": "execute_result"
    }
   ],
   "source": [
    "preprocessed_sonnets[:2]"
   ]
  },
  {
   "cell_type": "code",
   "execution_count": 100,
   "metadata": {
    "ExecuteTime": {
     "end_time": "2019-01-27T19:54:32.752394Z",
     "start_time": "2019-01-27T19:54:32.748634Z"
    },
    "collapsed": true
   },
   "outputs": [],
   "source": [
    "processed_sonnets = pd.DataFrame(preprocessed_sonnets, columns=['processed sonnets'])"
   ]
  },
  {
   "cell_type": "markdown",
   "metadata": {},
   "source": [
    "## Most important word of each sonnet"
   ]
  },
  {
   "cell_type": "code",
   "execution_count": 101,
   "metadata": {
    "ExecuteTime": {
     "end_time": "2019-01-27T19:10:59.467596Z",
     "start_time": "2019-01-27T19:10:59.462380Z"
    }
   },
   "outputs": [
    {
     "data": {
      "text/plain": [
       "153"
      ]
     },
     "execution_count": 101,
     "metadata": {},
     "output_type": "execute_result"
    }
   ],
   "source": [
    "len(preprocessed_sonnets)"
   ]
  },
  {
   "cell_type": "code",
   "execution_count": 102,
   "metadata": {
    "ExecuteTime": {
     "end_time": "2019-01-27T19:11:04.892458Z",
     "start_time": "2019-01-27T19:11:04.826711Z"
    }
   },
   "outputs": [
    {
     "name": "stdout",
     "output_type": "stream",
     "text": [
      "some sample features(unique words in the corpus) ['absence', 'age', 'ah', 'alone', 'although', 'another', 'antique', 'argument', 'art', 'away']\n",
      "==================================================\n",
      "the type of count vectorizer  <class 'scipy.sparse.csr.csr_matrix'>\n",
      "the shape of out text TFIDF vectorizer  (153, 371)\n",
      "the number of unique words including unigrams  371\n"
     ]
    }
   ],
   "source": [
    "tf_idf_vect = TfidfVectorizer(min_df=5)\n",
    "tf_idf_vect.fit(preprocessed_sonnets)\n",
    "print(\"some sample features(unique words in the corpus)\",tf_idf_vect.get_feature_names()[0:10])\n",
    "print('='*50)\n",
    "\n",
    "final_tf_idf = tf_idf_vect.transform(preprocessed_sonnets)\n",
    "print(\"the type of count vectorizer \",type(final_tf_idf))\n",
    "print(\"the shape of out text TFIDF vectorizer \",final_tf_idf.get_shape())\n",
    "print(\"the number of unique words including unigrams \", final_tf_idf.get_shape()[1])"
   ]
  },
  {
   "cell_type": "code",
   "execution_count": 103,
   "metadata": {
    "ExecuteTime": {
     "end_time": "2019-01-27T19:11:06.356611Z",
     "start_time": "2019-01-27T19:11:06.352167Z"
    },
    "collapsed": true
   },
   "outputs": [],
   "source": [
    "features = tf_idf_vect.get_feature_names()"
   ]
  },
  {
   "cell_type": "code",
   "execution_count": 104,
   "metadata": {
    "ExecuteTime": {
     "end_time": "2019-01-27T19:11:07.349170Z",
     "start_time": "2019-01-27T19:11:07.338561Z"
    },
    "collapsed": true
   },
   "outputs": [],
   "source": [
    "def top_tfidf_feats(row, features, top_n=25):\n",
    "    ''' Get top n tfidf values in row and return them with their corresponding feature names.'''\n",
    "    topn_ids = np.argsort(row)[::-1][:top_n]\n",
    "    top_feats = [(features[i], row[i]) for i in topn_ids]\n",
    "    df = pd.DataFrame(top_feats)\n",
    "    df.columns = ['feature', 'tfidf']\n",
    "    return df"
   ]
  },
  {
   "cell_type": "code",
   "execution_count": 105,
   "metadata": {
    "ExecuteTime": {
     "end_time": "2019-01-27T19:11:09.374691Z",
     "start_time": "2019-01-27T19:11:09.367930Z"
    },
    "collapsed": true
   },
   "outputs": [],
   "source": [
    "def top_feats_in_doc(Xtr, features, row_id, top_n=25):\n",
    "    ''' Top tfidf features in specific document (matrix row) '''\n",
    "    row = np.squeeze(Xtr[row_id].toarray())\n",
    "    return top_tfidf_feats(row, features, top_n)\n"
   ]
  },
  {
   "cell_type": "code",
   "execution_count": 106,
   "metadata": {
    "ExecuteTime": {
     "end_time": "2019-01-27T19:53:21.227039Z",
     "start_time": "2019-01-27T19:53:21.061019Z"
    },
    "collapsed": true
   },
   "outputs": [],
   "source": [
    "z = []\n",
    "for i in range(len(preprocessed_sonnets)):\n",
    "    z.append(top_feats_in_doc(final_tf_idf,features, i , top_n = 1)['feature'][0])"
   ]
  },
  {
   "cell_type": "code",
   "execution_count": 107,
   "metadata": {
    "ExecuteTime": {
     "end_time": "2019-01-27T19:54:49.791714Z",
     "start_time": "2019-01-27T19:54:49.787977Z"
    },
    "collapsed": true
   },
   "outputs": [],
   "source": [
    "imp_tf = pd.DataFrame(z, columns=['Most important word'])"
   ]
  },
  {
   "cell_type": "markdown",
   "metadata": {},
   "source": [
    "## Most frequent word of each sonnet."
   ]
  },
  {
   "cell_type": "code",
   "execution_count": 125,
   "metadata": {
    "ExecuteTime": {
     "end_time": "2019-01-27T19:18:00.116352Z",
     "start_time": "2019-01-27T19:18:00.074712Z"
    }
   },
   "outputs": [
    {
     "data": {
      "text/plain": [
       "['abhor', 'abide']"
      ]
     },
     "execution_count": 125,
     "metadata": {},
     "output_type": "execute_result"
    }
   ],
   "source": [
    "count_vector = CountVectorizer(preprocessed_sonnets)\n",
    "count_vector.fit(preprocessed_sonnets)\n",
    "count_vector.get_feature_names()[:2]"
   ]
  },
  {
   "cell_type": "code",
   "execution_count": 109,
   "metadata": {
    "ExecuteTime": {
     "end_time": "2019-01-27T19:18:01.163643Z",
     "start_time": "2019-01-27T19:18:01.134750Z"
    }
   },
   "outputs": [
    {
     "data": {
      "text/plain": [
       "array([[0, 0, 0, ..., 0, 0, 0],\n",
       "       [0, 0, 0, ..., 1, 0, 0],\n",
       "       [0, 0, 0, ..., 0, 0, 0],\n",
       "       ..., \n",
       "       [0, 0, 0, ..., 0, 0, 0],\n",
       "       [0, 0, 0, ..., 0, 0, 0],\n",
       "       [0, 0, 0, ..., 0, 0, 0]], dtype=int64)"
      ]
     },
     "execution_count": 109,
     "metadata": {},
     "output_type": "execute_result"
    }
   ],
   "source": [
    "doc_array = count_vector.transform(preprocessed_sonnets).toarray()\n",
    "doc_array\n"
   ]
  },
  {
   "cell_type": "code",
   "execution_count": 110,
   "metadata": {
    "ExecuteTime": {
     "end_time": "2019-01-27T19:18:02.335497Z",
     "start_time": "2019-01-27T19:18:02.302713Z"
    }
   },
   "outputs": [
    {
     "data": {
      "text/html": [
       "<div>\n",
       "<style scoped>\n",
       "    .dataframe tbody tr th:only-of-type {\n",
       "        vertical-align: middle;\n",
       "    }\n",
       "\n",
       "    .dataframe tbody tr th {\n",
       "        vertical-align: top;\n",
       "    }\n",
       "\n",
       "    .dataframe thead th {\n",
       "        text-align: right;\n",
       "    }\n",
       "</style>\n",
       "<table border=\"1\" class=\"dataframe\">\n",
       "  <thead>\n",
       "    <tr style=\"text-align: right;\">\n",
       "      <th></th>\n",
       "      <th>abhor</th>\n",
       "      <th>abide</th>\n",
       "      <th>able</th>\n",
       "      <th>absence</th>\n",
       "      <th>absent</th>\n",
       "      <th>abundance</th>\n",
       "      <th>abundant</th>\n",
       "      <th>abuse</th>\n",
       "      <th>abused</th>\n",
       "      <th>abuses</th>\n",
       "      <th>...</th>\n",
       "      <th>yellow</th>\n",
       "      <th>yellowed</th>\n",
       "      <th>yet</th>\n",
       "      <th>yield</th>\n",
       "      <th>yore</th>\n",
       "      <th>young</th>\n",
       "      <th>youngly</th>\n",
       "      <th>youth</th>\n",
       "      <th>youthful</th>\n",
       "      <th>zealous</th>\n",
       "    </tr>\n",
       "  </thead>\n",
       "  <tbody>\n",
       "    <tr>\n",
       "      <th>fairest creatures desire increase thereby beauty rose might never die riper time decease tender heir might bear memory thou contracted thine bright eyes feed st thy light flame self substantial fuel making famine abundance lies thy self thy foe thy sweet self cruel thou art world fresh ornament herald gaudy spring within thine bud buriest thy content tender churl mak st waste niggarding pity world else glutton eat world due grave thee</th>\n",
       "      <td>0</td>\n",
       "      <td>0</td>\n",
       "      <td>0</td>\n",
       "      <td>0</td>\n",
       "      <td>0</td>\n",
       "      <td>1</td>\n",
       "      <td>0</td>\n",
       "      <td>0</td>\n",
       "      <td>0</td>\n",
       "      <td>0</td>\n",
       "      <td>...</td>\n",
       "      <td>0</td>\n",
       "      <td>0</td>\n",
       "      <td>0</td>\n",
       "      <td>0</td>\n",
       "      <td>0</td>\n",
       "      <td>0</td>\n",
       "      <td>0</td>\n",
       "      <td>0</td>\n",
       "      <td>0</td>\n",
       "      <td>0</td>\n",
       "    </tr>\n",
       "  </tbody>\n",
       "</table>\n",
       "<p>1 rows × 2947 columns</p>\n",
       "</div>"
      ],
      "text/plain": [
       "                                                    abhor  abide  able  \\\n",
       "fairest creatures desire increase thereby beaut...      0      0     0   \n",
       "\n",
       "                                                    absence  absent  \\\n",
       "fairest creatures desire increase thereby beaut...        0       0   \n",
       "\n",
       "                                                    abundance  abundant  \\\n",
       "fairest creatures desire increase thereby beaut...          1         0   \n",
       "\n",
       "                                                    abuse  abused  abuses  \\\n",
       "fairest creatures desire increase thereby beaut...      0       0       0   \n",
       "\n",
       "                                                     ...     yellow  yellowed  \\\n",
       "fairest creatures desire increase thereby beaut...   ...          0         0   \n",
       "\n",
       "                                                    yet  yield  yore  young  \\\n",
       "fairest creatures desire increase thereby beaut...    0      0     0      0   \n",
       "\n",
       "                                                    youngly  youth  youthful  \\\n",
       "fairest creatures desire increase thereby beaut...        0      0         0   \n",
       "\n",
       "                                                    zealous  \n",
       "fairest creatures desire increase thereby beaut...        0  \n",
       "\n",
       "[1 rows x 2947 columns]"
      ]
     },
     "execution_count": 110,
     "metadata": {},
     "output_type": "execute_result"
    }
   ],
   "source": [
    "frequency_matrix = pd.DataFrame(doc_array,index=preprocessed_sonnets,columns=count_vector.get_feature_names())\n",
    "frequency_matrix.head(1)"
   ]
  },
  {
   "cell_type": "code",
   "execution_count": 111,
   "metadata": {
    "ExecuteTime": {
     "end_time": "2019-01-27T19:50:35.898170Z",
     "start_time": "2019-01-27T19:50:35.841568Z"
    },
    "collapsed": true
   },
   "outputs": [],
   "source": [
    "z = []\n",
    "for i in range(len(frequency_matrix)):\n",
    "    z.append(frequency_matrix.iloc[i].idxmax())"
   ]
  },
  {
   "cell_type": "code",
   "execution_count": 112,
   "metadata": {
    "ExecuteTime": {
     "end_time": "2019-01-27T19:55:04.651770Z",
     "start_time": "2019-01-27T19:55:04.648181Z"
    },
    "collapsed": true
   },
   "outputs": [],
   "source": [
    "most_frequent = pd.DataFrame(z, columns=['Most frequent word'])"
   ]
  },
  {
   "cell_type": "code",
   "execution_count": 113,
   "metadata": {
    "ExecuteTime": {
     "end_time": "2019-01-27T19:59:39.471209Z",
     "start_time": "2019-01-27T19:59:39.465563Z"
    },
    "collapsed": true
   },
   "outputs": [],
   "source": [
    "df = processed_sonnets['processed sonnets'].str.cat(imp_tf['Most important word'])"
   ]
  },
  {
   "cell_type": "markdown",
   "metadata": {},
   "source": [
    "### Tagging each sonet with its Most frequent and Most important word."
   ]
  },
  {
   "cell_type": "code",
   "execution_count": 114,
   "metadata": {
    "ExecuteTime": {
     "end_time": "2019-01-27T20:03:06.059274Z",
     "start_time": "2019-01-27T20:03:06.049482Z"
    }
   },
   "outputs": [
    {
     "data": {
      "text/html": [
       "<div>\n",
       "<style scoped>\n",
       "    .dataframe tbody tr th:only-of-type {\n",
       "        vertical-align: middle;\n",
       "    }\n",
       "\n",
       "    .dataframe tbody tr th {\n",
       "        vertical-align: top;\n",
       "    }\n",
       "\n",
       "    .dataframe thead th {\n",
       "        text-align: right;\n",
       "    }\n",
       "</style>\n",
       "<table border=\"1\" class=\"dataframe\">\n",
       "  <thead>\n",
       "    <tr style=\"text-align: right;\">\n",
       "      <th></th>\n",
       "      <th>processed sonnets</th>\n",
       "      <th>Most frequent word</th>\n",
       "      <th>Most important word</th>\n",
       "    </tr>\n",
       "  </thead>\n",
       "  <tbody>\n",
       "    <tr>\n",
       "      <th>0</th>\n",
       "      <td>fairest creatures desire increase thereby beau...</td>\n",
       "      <td>thy</td>\n",
       "      <td>world</td>\n",
       "    </tr>\n",
       "    <tr>\n",
       "      <th>1</th>\n",
       "      <td>forty winters shall besiege thy brow dig deep ...</td>\n",
       "      <td>thy</td>\n",
       "      <td>thy</td>\n",
       "    </tr>\n",
       "    <tr>\n",
       "      <th>2</th>\n",
       "      <td>look thy glass tell face thou viewest time fac...</td>\n",
       "      <td>thou</td>\n",
       "      <td>thou</td>\n",
       "    </tr>\n",
       "    <tr>\n",
       "      <th>3</th>\n",
       "      <td>unthrifty loveliness dost thou spend upon thy ...</td>\n",
       "      <td>thy</td>\n",
       "      <td>dost</td>\n",
       "    </tr>\n",
       "    <tr>\n",
       "      <th>4</th>\n",
       "      <td>hours gentle work frame lovely gaze every eye ...</td>\n",
       "      <td>beauty</td>\n",
       "      <td>winter</td>\n",
       "    </tr>\n",
       "  </tbody>\n",
       "</table>\n",
       "</div>"
      ],
      "text/plain": [
       "                                   processed sonnets Most frequent word  \\\n",
       "0  fairest creatures desire increase thereby beau...                thy   \n",
       "1  forty winters shall besiege thy brow dig deep ...                thy   \n",
       "2  look thy glass tell face thou viewest time fac...               thou   \n",
       "3  unthrifty loveliness dost thou spend upon thy ...                thy   \n",
       "4  hours gentle work frame lovely gaze every eye ...             beauty   \n",
       "\n",
       "  Most important word  \n",
       "0               world  \n",
       "1                 thy  \n",
       "2                thou  \n",
       "3                dost  \n",
       "4              winter  "
      ]
     },
     "execution_count": 114,
     "metadata": {},
     "output_type": "execute_result"
    }
   ],
   "source": [
    "final_data = pd.concat([processed_sonnets, most_frequent['Most frequent word'], imp_tf['Most important word']], axis=1)\n",
    "final_data.head()"
   ]
  },
  {
   "cell_type": "code",
   "execution_count": 115,
   "metadata": {
    "ExecuteTime": {
     "end_time": "2019-01-27T19:56:12.520167Z",
     "start_time": "2019-01-27T19:56:12.505038Z"
    }
   },
   "outputs": [
    {
     "data": {
      "text/html": [
       "<div>\n",
       "<style scoped>\n",
       "    .dataframe tbody tr th:only-of-type {\n",
       "        vertical-align: middle;\n",
       "    }\n",
       "\n",
       "    .dataframe tbody tr th {\n",
       "        vertical-align: top;\n",
       "    }\n",
       "\n",
       "    .dataframe thead th {\n",
       "        text-align: right;\n",
       "    }\n",
       "</style>\n",
       "<table border=\"1\" class=\"dataframe\">\n",
       "  <thead>\n",
       "    <tr style=\"text-align: right;\">\n",
       "      <th></th>\n",
       "      <th>processed sonnets</th>\n",
       "      <th>Most frequent word</th>\n",
       "      <th>Most important word</th>\n",
       "    </tr>\n",
       "  </thead>\n",
       "  <tbody>\n",
       "    <tr>\n",
       "      <th>0</th>\n",
       "      <td>fairest creatures desire increase thereby beau...</td>\n",
       "      <td>thy</td>\n",
       "      <td>world</td>\n",
       "    </tr>\n",
       "    <tr>\n",
       "      <th>1</th>\n",
       "      <td>forty winters shall besiege thy brow dig deep ...</td>\n",
       "      <td>thy</td>\n",
       "      <td>thy</td>\n",
       "    </tr>\n",
       "    <tr>\n",
       "      <th>2</th>\n",
       "      <td>look thy glass tell face thou viewest time fac...</td>\n",
       "      <td>thou</td>\n",
       "      <td>thou</td>\n",
       "    </tr>\n",
       "    <tr>\n",
       "      <th>3</th>\n",
       "      <td>unthrifty loveliness dost thou spend upon thy ...</td>\n",
       "      <td>thy</td>\n",
       "      <td>dost</td>\n",
       "    </tr>\n",
       "    <tr>\n",
       "      <th>4</th>\n",
       "      <td>hours gentle work frame lovely gaze every eye ...</td>\n",
       "      <td>beauty</td>\n",
       "      <td>winter</td>\n",
       "    </tr>\n",
       "    <tr>\n",
       "      <th>5</th>\n",
       "      <td>let not winter ragged hand deface thee thy sum...</td>\n",
       "      <td>ten</td>\n",
       "      <td>times</td>\n",
       "    </tr>\n",
       "    <tr>\n",
       "      <th>6</th>\n",
       "      <td>lo orient gracious light lifts burning head ey...</td>\n",
       "      <td>age</td>\n",
       "      <td>looks</td>\n",
       "    </tr>\n",
       "    <tr>\n",
       "      <th>7</th>\n",
       "      <td>music hear hear st thou music sadly sweets swe...</td>\n",
       "      <td>thou</td>\n",
       "      <td>one</td>\n",
       "    </tr>\n",
       "    <tr>\n",
       "      <th>8</th>\n",
       "      <td>fear wet widow eye thou consum st thy self sin...</td>\n",
       "      <td>world</td>\n",
       "      <td>world</td>\n",
       "    </tr>\n",
       "    <tr>\n",
       "      <th>9</th>\n",
       "      <td>shame deny thou bear st love thy self art unpr...</td>\n",
       "      <td>thou</td>\n",
       "      <td>thy</td>\n",
       "    </tr>\n",
       "    <tr>\n",
       "      <th>10</th>\n",
       "      <td>fast thou shalt wane fast thou grow st one thi...</td>\n",
       "      <td>thou</td>\n",
       "      <td>thou</td>\n",
       "    </tr>\n",
       "    <tr>\n",
       "      <th>11</th>\n",
       "      <td>count clock tells time see brave day sunk hide...</td>\n",
       "      <td>see</td>\n",
       "      <td>see</td>\n",
       "    </tr>\n",
       "    <tr>\n",
       "      <th>12</th>\n",
       "      <td>self love no longer self live coming end prepa...</td>\n",
       "      <td>self</td>\n",
       "      <td>self</td>\n",
       "    </tr>\n",
       "    <tr>\n",
       "      <th>13</th>\n",
       "      <td>not stars judgement pluck yet methinks astrono...</td>\n",
       "      <td>beauty</td>\n",
       "      <td>tell</td>\n",
       "    </tr>\n",
       "    <tr>\n",
       "      <th>14</th>\n",
       "      <td>consider every thing grows holds perfection li...</td>\n",
       "      <td>time</td>\n",
       "      <td>youth</td>\n",
       "    </tr>\n",
       "    <tr>\n",
       "      <th>15</th>\n",
       "      <td>wherefore not mightier way make war upon blood...</td>\n",
       "      <td>self</td>\n",
       "      <td>self</td>\n",
       "    </tr>\n",
       "    <tr>\n",
       "      <th>16</th>\n",
       "      <td>believe verse time come filled high deserts th...</td>\n",
       "      <td>age</td>\n",
       "      <td>come</td>\n",
       "    </tr>\n",
       "    <tr>\n",
       "      <th>17</th>\n",
       "      <td>shall compare thee summer day thou art lovely ...</td>\n",
       "      <td>thou</td>\n",
       "      <td>summer</td>\n",
       "    </tr>\n",
       "    <tr>\n",
       "      <th>18</th>\n",
       "      <td>devouring time blunt thou lion paws make earth...</td>\n",
       "      <td>thy</td>\n",
       "      <td>time</td>\n",
       "    </tr>\n",
       "    <tr>\n",
       "      <th>19</th>\n",
       "      <td>woman face nature hand painted hast thou maste...</td>\n",
       "      <td>thee</td>\n",
       "      <td>nature</td>\n",
       "    </tr>\n",
       "    <tr>\n",
       "      <th>20</th>\n",
       "      <td>not muse stirred painted beauty verse heaven s...</td>\n",
       "      <td>not</td>\n",
       "      <td>heaven</td>\n",
       "    </tr>\n",
       "    <tr>\n",
       "      <th>21</th>\n",
       "      <td>glass shall not persuade old long youth thou o...</td>\n",
       "      <td>not</td>\n",
       "      <td>heart</td>\n",
       "    </tr>\n",
       "    <tr>\n",
       "      <th>22</th>\n",
       "      <td>unperfect actor stage fear put beside part fie...</td>\n",
       "      <td>love</td>\n",
       "      <td>love</td>\n",
       "    </tr>\n",
       "    <tr>\n",
       "      <th>23</th>\n",
       "      <td>mine eye hath played painter hath stelled thy ...</td>\n",
       "      <td>eyes</td>\n",
       "      <td>eyes</td>\n",
       "    </tr>\n",
       "    <tr>\n",
       "      <th>24</th>\n",
       "      <td>let favour stars public honour proud titles bo...</td>\n",
       "      <td>honour</td>\n",
       "      <td>boast</td>\n",
       "    </tr>\n",
       "    <tr>\n",
       "      <th>25</th>\n",
       "      <td>lord love vassalage thy merit hath duty strong...</td>\n",
       "      <td>show</td>\n",
       "      <td>show</td>\n",
       "    </tr>\n",
       "    <tr>\n",
       "      <th>26</th>\n",
       "      <td>weary toil haste bed dear respose limbs travel...</td>\n",
       "      <td>night</td>\n",
       "      <td>night</td>\n",
       "    </tr>\n",
       "    <tr>\n",
       "      <th>27</th>\n",
       "      <td>return happy plight debarred benefit rest day ...</td>\n",
       "      <td>day</td>\n",
       "      <td>night</td>\n",
       "    </tr>\n",
       "    <tr>\n",
       "      <th>28</th>\n",
       "      <td>disgrace fortune men eyes alone beweep outcast...</td>\n",
       "      <td>like</td>\n",
       "      <td>state</td>\n",
       "    </tr>\n",
       "    <tr>\n",
       "      <th>29</th>\n",
       "      <td>sessions sweet silent thought summon remembran...</td>\n",
       "      <td>woe</td>\n",
       "      <td>woe</td>\n",
       "    </tr>\n",
       "    <tr>\n",
       "      <th>...</th>\n",
       "      <td>...</td>\n",
       "      <td>...</td>\n",
       "      <td>...</td>\n",
       "    </tr>\n",
       "    <tr>\n",
       "      <th>123</th>\n",
       "      <td>dear love child state might fortune bastard un...</td>\n",
       "      <td>time</td>\n",
       "      <td>time</td>\n",
       "    </tr>\n",
       "    <tr>\n",
       "      <th>124</th>\n",
       "      <td>aught bore canopy extern outward honouring lai...</td>\n",
       "      <td>no</td>\n",
       "      <td>short</td>\n",
       "    </tr>\n",
       "    <tr>\n",
       "      <th>125</th>\n",
       "      <td>thou lovely boy thy power dost hold time fickl...</td>\n",
       "      <td>thee</td>\n",
       "      <td>may</td>\n",
       "    </tr>\n",
       "    <tr>\n",
       "      <th>126</th>\n",
       "      <td>old age black not counted fair bore not beauty...</td>\n",
       "      <td>beauty</td>\n",
       "      <td>beauty</td>\n",
       "    </tr>\n",
       "    <tr>\n",
       "      <th>127</th>\n",
       "      <td>oft thou music music play st upon blessed wood...</td>\n",
       "      <td>thy</td>\n",
       "      <td>lips</td>\n",
       "    </tr>\n",
       "    <tr>\n",
       "      <th>128</th>\n",
       "      <td>th expense spirit waste shame lust action till...</td>\n",
       "      <td>action</td>\n",
       "      <td>past</td>\n",
       "    </tr>\n",
       "    <tr>\n",
       "      <th>129</th>\n",
       "      <td>mistress eyes nothing like sun coral far red l...</td>\n",
       "      <td>mistress</td>\n",
       "      <td>mistress</td>\n",
       "    </tr>\n",
       "    <tr>\n",
       "      <th>130</th>\n",
       "      <td>thou art tyrannous thou art whose beauties pro...</td>\n",
       "      <td>thou</td>\n",
       "      <td>art</td>\n",
       "    </tr>\n",
       "    <tr>\n",
       "      <th>131</th>\n",
       "      <td>thine eyes love pitying knowing thy heart torm...</td>\n",
       "      <td>thy</td>\n",
       "      <td>thy</td>\n",
       "    </tr>\n",
       "    <tr>\n",
       "      <th>132</th>\n",
       "      <td>beshrew heart makes heart groan deep wound giv...</td>\n",
       "      <td>heart</td>\n",
       "      <td>heart</td>\n",
       "    </tr>\n",
       "    <tr>\n",
       "      <th>133</th>\n",
       "      <td>confessed thine self mortgaged thy self forfei...</td>\n",
       "      <td>thou</td>\n",
       "      <td>wilt</td>\n",
       "    </tr>\n",
       "    <tr>\n",
       "      <th>134</th>\n",
       "      <td>whoever hath wish thou hast thy boot overplus ...</td>\n",
       "      <td>thy</td>\n",
       "      <td>one</td>\n",
       "    </tr>\n",
       "    <tr>\n",
       "      <th>135</th>\n",
       "      <td>thy soul check thee come near swear thy blind ...</td>\n",
       "      <td>thy</td>\n",
       "      <td>thy</td>\n",
       "    </tr>\n",
       "    <tr>\n",
       "      <th>136</th>\n",
       "      <td>thou blind fool love dost thou mine eyes behol...</td>\n",
       "      <td>eyes</td>\n",
       "      <td>eyes</td>\n",
       "    </tr>\n",
       "    <tr>\n",
       "      <th>137</th>\n",
       "      <td>love swears made truth believe though know lie...</td>\n",
       "      <td>love</td>\n",
       "      <td>lies</td>\n",
       "    </tr>\n",
       "    <tr>\n",
       "      <th>138</th>\n",
       "      <td>call not justify wrong thy unkindness lays upo...</td>\n",
       "      <td>not</td>\n",
       "      <td>power</td>\n",
       "    </tr>\n",
       "    <tr>\n",
       "      <th>139</th>\n",
       "      <td>wise thou art cruel not press tongue tied pati...</td>\n",
       "      <td>mad</td>\n",
       "      <td>words</td>\n",
       "    </tr>\n",
       "    <tr>\n",
       "      <th>140</th>\n",
       "      <td>faith not love thee mine eyes thee thousand er...</td>\n",
       "      <td>nor</td>\n",
       "      <td>nor</td>\n",
       "    </tr>\n",
       "    <tr>\n",
       "      <th>141</th>\n",
       "      <td>love sin thy dear virtue hate hate sin grounde...</td>\n",
       "      <td>thou</td>\n",
       "      <td>thou</td>\n",
       "    </tr>\n",
       "    <tr>\n",
       "      <th>142</th>\n",
       "      <td>lo careful huswife runs catch one feathered cr...</td>\n",
       "      <td>thou</td>\n",
       "      <td>back</td>\n",
       "    </tr>\n",
       "    <tr>\n",
       "      <th>143</th>\n",
       "      <td>two loves comfort despair like two spirits sug...</td>\n",
       "      <td>angel</td>\n",
       "      <td>two</td>\n",
       "    </tr>\n",
       "    <tr>\n",
       "      <th>144</th>\n",
       "      <td>lips love hand make breathed forth sound said ...</td>\n",
       "      <td>hate</td>\n",
       "      <td>hate</td>\n",
       "    </tr>\n",
       "    <tr>\n",
       "      <th>145</th>\n",
       "      <td>poor soul centre sinful earth sinful earth reb...</td>\n",
       "      <td>thy</td>\n",
       "      <td>thy</td>\n",
       "    </tr>\n",
       "    <tr>\n",
       "      <th>146</th>\n",
       "      <td>love fever longing still longer nurseth diseas...</td>\n",
       "      <td>love</td>\n",
       "      <td>past</td>\n",
       "    </tr>\n",
       "    <tr>\n",
       "      <th>147</th>\n",
       "      <td>eyes hath love put head no correspondence true...</td>\n",
       "      <td>love</td>\n",
       "      <td>true</td>\n",
       "    </tr>\n",
       "    <tr>\n",
       "      <th>148</th>\n",
       "      <td>canst thou cruel say love thee not self thee p...</td>\n",
       "      <td>self</td>\n",
       "      <td>self</td>\n",
       "    </tr>\n",
       "    <tr>\n",
       "      <th>149</th>\n",
       "      <td>power hast thou powerful might insufficiency h...</td>\n",
       "      <td>love</td>\n",
       "      <td>others</td>\n",
       "    </tr>\n",
       "    <tr>\n",
       "      <th>150</th>\n",
       "      <td>love young know conscience yet knows not consc...</td>\n",
       "      <td>love</td>\n",
       "      <td>thy</td>\n",
       "    </tr>\n",
       "    <tr>\n",
       "      <th>151</th>\n",
       "      <td>loving thee thou know st forsworn thou art twi...</td>\n",
       "      <td>thee</td>\n",
       "      <td>thee</td>\n",
       "    </tr>\n",
       "    <tr>\n",
       "      <th>152</th>\n",
       "      <td>cupid laid brand fell asleep maid dian advanta...</td>\n",
       "      <td>bath</td>\n",
       "      <td>fire</td>\n",
       "    </tr>\n",
       "  </tbody>\n",
       "</table>\n",
       "<p>153 rows × 3 columns</p>\n",
       "</div>"
      ],
      "text/plain": [
       "                                     processed sonnets Most frequent word  \\\n",
       "0    fairest creatures desire increase thereby beau...                thy   \n",
       "1    forty winters shall besiege thy brow dig deep ...                thy   \n",
       "2    look thy glass tell face thou viewest time fac...               thou   \n",
       "3    unthrifty loveliness dost thou spend upon thy ...                thy   \n",
       "4    hours gentle work frame lovely gaze every eye ...             beauty   \n",
       "5    let not winter ragged hand deface thee thy sum...                ten   \n",
       "6    lo orient gracious light lifts burning head ey...                age   \n",
       "7    music hear hear st thou music sadly sweets swe...               thou   \n",
       "8    fear wet widow eye thou consum st thy self sin...              world   \n",
       "9    shame deny thou bear st love thy self art unpr...               thou   \n",
       "10   fast thou shalt wane fast thou grow st one thi...               thou   \n",
       "11   count clock tells time see brave day sunk hide...                see   \n",
       "12   self love no longer self live coming end prepa...               self   \n",
       "13   not stars judgement pluck yet methinks astrono...             beauty   \n",
       "14   consider every thing grows holds perfection li...               time   \n",
       "15   wherefore not mightier way make war upon blood...               self   \n",
       "16   believe verse time come filled high deserts th...                age   \n",
       "17   shall compare thee summer day thou art lovely ...               thou   \n",
       "18   devouring time blunt thou lion paws make earth...                thy   \n",
       "19   woman face nature hand painted hast thou maste...               thee   \n",
       "20   not muse stirred painted beauty verse heaven s...                not   \n",
       "21   glass shall not persuade old long youth thou o...                not   \n",
       "22   unperfect actor stage fear put beside part fie...               love   \n",
       "23   mine eye hath played painter hath stelled thy ...               eyes   \n",
       "24   let favour stars public honour proud titles bo...             honour   \n",
       "25   lord love vassalage thy merit hath duty strong...               show   \n",
       "26   weary toil haste bed dear respose limbs travel...              night   \n",
       "27   return happy plight debarred benefit rest day ...                day   \n",
       "28   disgrace fortune men eyes alone beweep outcast...               like   \n",
       "29   sessions sweet silent thought summon remembran...                woe   \n",
       "..                                                 ...                ...   \n",
       "123  dear love child state might fortune bastard un...               time   \n",
       "124  aught bore canopy extern outward honouring lai...                 no   \n",
       "125  thou lovely boy thy power dost hold time fickl...               thee   \n",
       "126  old age black not counted fair bore not beauty...             beauty   \n",
       "127  oft thou music music play st upon blessed wood...                thy   \n",
       "128  th expense spirit waste shame lust action till...             action   \n",
       "129  mistress eyes nothing like sun coral far red l...           mistress   \n",
       "130  thou art tyrannous thou art whose beauties pro...               thou   \n",
       "131  thine eyes love pitying knowing thy heart torm...                thy   \n",
       "132  beshrew heart makes heart groan deep wound giv...              heart   \n",
       "133  confessed thine self mortgaged thy self forfei...               thou   \n",
       "134  whoever hath wish thou hast thy boot overplus ...                thy   \n",
       "135  thy soul check thee come near swear thy blind ...                thy   \n",
       "136  thou blind fool love dost thou mine eyes behol...               eyes   \n",
       "137  love swears made truth believe though know lie...               love   \n",
       "138  call not justify wrong thy unkindness lays upo...                not   \n",
       "139  wise thou art cruel not press tongue tied pati...                mad   \n",
       "140  faith not love thee mine eyes thee thousand er...                nor   \n",
       "141  love sin thy dear virtue hate hate sin grounde...               thou   \n",
       "142  lo careful huswife runs catch one feathered cr...               thou   \n",
       "143  two loves comfort despair like two spirits sug...              angel   \n",
       "144  lips love hand make breathed forth sound said ...               hate   \n",
       "145  poor soul centre sinful earth sinful earth reb...                thy   \n",
       "146  love fever longing still longer nurseth diseas...               love   \n",
       "147  eyes hath love put head no correspondence true...               love   \n",
       "148  canst thou cruel say love thee not self thee p...               self   \n",
       "149  power hast thou powerful might insufficiency h...               love   \n",
       "150  love young know conscience yet knows not consc...               love   \n",
       "151  loving thee thou know st forsworn thou art twi...               thee   \n",
       "152  cupid laid brand fell asleep maid dian advanta...               bath   \n",
       "\n",
       "    Most important word  \n",
       "0                 world  \n",
       "1                   thy  \n",
       "2                  thou  \n",
       "3                  dost  \n",
       "4                winter  \n",
       "5                 times  \n",
       "6                 looks  \n",
       "7                   one  \n",
       "8                 world  \n",
       "9                   thy  \n",
       "10                 thou  \n",
       "11                  see  \n",
       "12                 self  \n",
       "13                 tell  \n",
       "14                youth  \n",
       "15                 self  \n",
       "16                 come  \n",
       "17               summer  \n",
       "18                 time  \n",
       "19               nature  \n",
       "20               heaven  \n",
       "21                heart  \n",
       "22                 love  \n",
       "23                 eyes  \n",
       "24                boast  \n",
       "25                 show  \n",
       "26                night  \n",
       "27                night  \n",
       "28                state  \n",
       "29                  woe  \n",
       "..                  ...  \n",
       "123                time  \n",
       "124               short  \n",
       "125                 may  \n",
       "126              beauty  \n",
       "127                lips  \n",
       "128                past  \n",
       "129            mistress  \n",
       "130                 art  \n",
       "131                 thy  \n",
       "132               heart  \n",
       "133                wilt  \n",
       "134                 one  \n",
       "135                 thy  \n",
       "136                eyes  \n",
       "137                lies  \n",
       "138               power  \n",
       "139               words  \n",
       "140                 nor  \n",
       "141                thou  \n",
       "142                back  \n",
       "143                 two  \n",
       "144                hate  \n",
       "145                 thy  \n",
       "146                past  \n",
       "147                true  \n",
       "148                self  \n",
       "149              others  \n",
       "150                 thy  \n",
       "151                thee  \n",
       "152                fire  \n",
       "\n",
       "[153 rows x 3 columns]"
      ]
     },
     "execution_count": 115,
     "metadata": {},
     "output_type": "execute_result"
    }
   ],
   "source": [
    "final_data"
   ]
  },
  {
   "cell_type": "markdown",
   "metadata": {},
   "source": [
    "## Related sonnets"
   ]
  },
  {
   "cell_type": "markdown",
   "metadata": {},
   "source": [
    "We are clustering the related sonnets together."
   ]
  },
  {
   "cell_type": "code",
   "execution_count": 116,
   "metadata": {
    "ExecuteTime": {
     "end_time": "2019-01-27T19:18:38.815338Z",
     "start_time": "2019-01-27T19:18:38.778845Z"
    }
   },
   "outputs": [
    {
     "data": {
      "text/plain": [
       "(153, 2947)"
      ]
     },
     "execution_count": 116,
     "metadata": {},
     "output_type": "execute_result"
    }
   ],
   "source": [
    "# Generating bag of words features.\n",
    "count_vect = CountVectorizer()\n",
    "bow = count_vect.fit_transform(preprocessed_sonnets)\n",
    "bow.shape"
   ]
  },
  {
   "cell_type": "code",
   "execution_count": 117,
   "metadata": {
    "ExecuteTime": {
     "end_time": "2019-01-27T19:18:39.633455Z",
     "start_time": "2019-01-27T19:18:39.534287Z"
    },
    "collapsed": true
   },
   "outputs": [],
   "source": [
    "# Importing k-Means class from sklearn\n",
    "from sklearn.cluster import KMeans"
   ]
  },
  {
   "cell_type": "code",
   "execution_count": 118,
   "metadata": {
    "ExecuteTime": {
     "end_time": "2019-01-27T19:18:40.062706Z",
     "start_time": "2019-01-27T19:18:40.049953Z"
    }
   },
   "outputs": [
    {
     "data": {
      "text/plain": [
       "[3, 4, 5, 6, 7, 8, 9, 10]"
      ]
     },
     "execution_count": 118,
     "metadata": {},
     "output_type": "execute_result"
    }
   ],
   "source": [
    "# Number of clusters to check.\n",
    "num_clus = [x for x in range(3,11)]\n",
    "num_clus"
   ]
  },
  {
   "cell_type": "code",
   "execution_count": 119,
   "metadata": {
    "ExecuteTime": {
     "end_time": "2019-01-27T19:18:45.366931Z",
     "start_time": "2019-01-27T19:18:41.486808Z"
    }
   },
   "outputs": [
    {
     "data": {
      "image/png": "[encoded data removed]",
      "text/plain": [
       "<matplotlib.figure.Figure at 0x3d6350af60>"
      ]
     },
     "metadata": {},
     "output_type": "display_data"
    },
    {
     "name": "stdout",
     "output_type": "stream",
     "text": [
      "The optimal number of clusters obtained is -  9\n",
      "The loss for optimal cluster is -  10880.612632908023\n"
     ]
    }
   ],
   "source": [
    "# Choosing the best cluster using Elbow Method.\n",
    "squared_errors = []\n",
    "for cluster in num_clus:\n",
    "    kmeans = KMeans(n_clusters = cluster, n_jobs = -1).fit(bow) # Training Clustering.\n",
    "    squared_errors.append(kmeans.inertia_) # Appending the squared loss obtained in the list\n",
    "    \n",
    "optimal_clusters = np.argmin(squared_errors) + 2 # As argmin return the index of minimum loss. \n",
    "plt.plot(num_clus, squared_errors)\n",
    "plt.title(\"Elbow Curve for fidning the right number of clusters.\")\n",
    "plt.xlabel(\"Number of clusters.\")\n",
    "plt.ylabel(\"Squared Loss.\")\n",
    "xy = (optimal_clusters, min(squared_errors))\n",
    "plt.annotate('(%s, %s)' % xy, xy = xy, textcoords='data')\n",
    "plt.show()\n",
    "\n",
    "print (\"The optimal number of clusters obtained is - \", optimal_clusters)\n",
    "print (\"The loss for optimal cluster is - \", min(squared_errors))"
   ]
  },
  {
   "cell_type": "code",
   "execution_count": 120,
   "metadata": {
    "ExecuteTime": {
     "end_time": "2019-01-27T19:18:48.594785Z",
     "start_time": "2019-01-27T19:18:48.168506Z"
    }
   },
   "outputs": [
    {
     "data": {
      "text/plain": [
       "KMeans(algorithm='auto', copy_x=True, init='k-means++', max_iter=300,\n",
       "    n_clusters=9, n_init=10, n_jobs=-1, precompute_distances='auto',\n",
       "    random_state=None, tol=0.0001, verbose=0)"
      ]
     },
     "execution_count": 120,
     "metadata": {},
     "output_type": "execute_result"
    }
   ],
   "source": [
    "# Training the best model --\n",
    "model = KMeans(n_clusters = optimal_clusters, n_jobs = -1)\n",
    "model.fit(bow)"
   ]
  },
  {
   "cell_type": "code",
   "execution_count": 121,
   "metadata": {
    "ExecuteTime": {
     "end_time": "2019-01-27T19:19:04.811451Z",
     "start_time": "2019-01-27T19:19:04.795232Z"
    }
   },
   "outputs": [
    {
     "data": {
      "text/html": [
       "<div>\n",
       "<style scoped>\n",
       "    .dataframe tbody tr th:only-of-type {\n",
       "        vertical-align: middle;\n",
       "    }\n",
       "\n",
       "    .dataframe tbody tr th {\n",
       "        vertical-align: top;\n",
       "    }\n",
       "\n",
       "    .dataframe thead th {\n",
       "        text-align: right;\n",
       "    }\n",
       "</style>\n",
       "<table border=\"1\" class=\"dataframe\">\n",
       "  <thead>\n",
       "    <tr style=\"text-align: right;\">\n",
       "      <th></th>\n",
       "      <th>Unnamed: 0</th>\n",
       "      <th>sonnet</th>\n",
       "      <th>Label</th>\n",
       "    </tr>\n",
       "  </thead>\n",
       "  <tbody>\n",
       "    <tr>\n",
       "      <th>0</th>\n",
       "      <td>0</td>\n",
       "      <td>From fairest creatures we desire increase, Th...</td>\n",
       "      <td>5</td>\n",
       "    </tr>\n",
       "    <tr>\n",
       "      <th>1</th>\n",
       "      <td>1</td>\n",
       "      <td>When forty winters shall besiege thy brow, An...</td>\n",
       "      <td>7</td>\n",
       "    </tr>\n",
       "    <tr>\n",
       "      <th>2</th>\n",
       "      <td>2</td>\n",
       "      <td>Look in thy glass and tell the face thou view...</td>\n",
       "      <td>2</td>\n",
       "    </tr>\n",
       "    <tr>\n",
       "      <th>3</th>\n",
       "      <td>3</td>\n",
       "      <td>Unthrifty loveliness why dost thou spend, Upo...</td>\n",
       "      <td>1</td>\n",
       "    </tr>\n",
       "    <tr>\n",
       "      <th>4</th>\n",
       "      <td>4</td>\n",
       "      <td>Those hours that with gentle work did frame T...</td>\n",
       "      <td>3</td>\n",
       "    </tr>\n",
       "  </tbody>\n",
       "</table>\n",
       "</div>"
      ],
      "text/plain": [
       "   Unnamed: 0                                             sonnet  Label\n",
       "0           0   From fairest creatures we desire increase, Th...      5\n",
       "1           1   When forty winters shall besiege thy brow, An...      7\n",
       "2           2   Look in thy glass and tell the face thou view...      2\n",
       "3           3   Unthrifty loveliness why dost thou spend, Upo...      1\n",
       "4           4   Those hours that with gentle work did frame T...      3"
      ]
     },
     "execution_count": 121,
     "metadata": {},
     "output_type": "execute_result"
    }
   ],
   "source": [
    "# Giving Labels/assigning a cluster to each sonnet\n",
    "df = data\n",
    "df['Label'] = model.labels_\n",
    "df.head(5)"
   ]
  },
  {
   "cell_type": "code",
   "execution_count": 122,
   "metadata": {
    "ExecuteTime": {
     "end_time": "2019-01-27T19:19:07.183673Z",
     "start_time": "2019-01-27T19:19:07.172330Z"
    }
   },
   "outputs": [
    {
     "data": {
      "text/plain": [
       "Label\n",
       "0     7\n",
       "1    11\n",
       "2    46\n",
       "3    46\n",
       "4     3\n",
       "5     9\n",
       "6    27\n",
       "7     2\n",
       "8     2\n",
       "Name: sonnet, dtype: int64"
      ]
     },
     "execution_count": 122,
     "metadata": {},
     "output_type": "execute_result"
    }
   ],
   "source": [
    "# How many sonnet belong to each cluster ->\n",
    "df.groupby(['Label'])['sonnet'].count()"
   ]
  },
  {
   "cell_type": "code",
   "execution_count": 123,
   "metadata": {
    "ExecuteTime": {
     "end_time": "2019-01-27T19:19:17.817626Z",
     "start_time": "2019-01-27T19:19:17.604706Z"
    }
   },
   "outputs": [
    {
     "data": {
      "image/png": "[encoded data removed]",
      "text/plain": [
       "<matplotlib.figure.Figure at 0x3d634e56d8>"
      ]
     },
     "metadata": {},
     "output_type": "display_data"
    }
   ],
   "source": [
    "plt.bar([x for x in range(optimal_clusters)], df.groupby(['Label'])['sonnet'].count(), alpha = 0.4)\n",
    "plt.title('KMeans cluster points')\n",
    "plt.xlabel(\"Cluster number\")\n",
    "plt.ylabel(\"Number of sonnets\")\n",
    "plt.show()"
   ]
  },
  {
   "cell_type": "code",
   "execution_count": 124,
   "metadata": {
    "ExecuteTime": {
     "end_time": "2019-01-27T19:19:19.775930Z",
     "start_time": "2019-01-27T19:19:19.746597Z"
    }
   },
   "outputs": [
    {
     "name": "stdout",
     "output_type": "stream",
     "text": [
      "A sonnet of assigned to cluster  0\n",
      "----------------------------------------------------------------------\n",
      " When I do count the clock that tells the time, And see the brave day sunk in hideous night, When I behold the violet past prime, And sable curls all silvered oâ€™er with white: When lofty trees I see barren of leaves, Which erst from heat did canopy the herd And summerâ€™s green all girded up in sheaves Borne on the bier with white and bristly beard: Then of thy beauty do I question make That thou among the wastes of time must go, Since sweets and beauties do themselves forsake, And die as fast as they see others grow, And nothing â€™gainst Timeâ€™s scythe can make defence Save breed to brave him, when he takes thee hence.  \n",
      "\n",
      "\n",
      "______________________________________________________________________\n",
      "A sonnet of assigned to cluster  1\n",
      "----------------------------------------------------------------------\n",
      " Unthrifty loveliness why dost thou spend, Upon thy self thy beautyâ€™s legacy? Natureâ€™s bequest gives nothing but doth lend, And being frank she lends to those are free: Then beauteous niggard why dost thou abuse, The bounteous largess given thee to give? Profitless usurer why dost thou use So great a sum of sums yet canst not live? For having traffic with thy self alone, Thou of thy self thy sweet self dost deceive, Then how when nature calls thee to be gone, What acceptable audit canst thou leave? Thy unused beauty must be tombed with thee, Which used lives thâ€™ executor to be.  \n",
      "\n",
      "\n",
      "______________________________________________________________________\n",
      "A sonnet of assigned to cluster  2\n",
      "----------------------------------------------------------------------\n",
      " Look in thy glass and tell the face thou viewest, Now is the time that face should form another, Whose fresh repair if now thou not renewest, Thou dost beguile the world, unbless some mother. For where is she so fair whose uneared womb Disdains the tillage of thy husbandry? Or who is he so fond will be the tomb Of his self-love to stop posterity? Thou art thy motherâ€™s glass and she in thee Calls back the lovely April of her prime, So thou through windows of thine age shalt see, Despite of wrinkles this thy golden time. But if thou live remembered not to be, Die single and thine image dies with thee.  \n",
      "\n",
      "\n",
      "______________________________________________________________________\n",
      "A sonnet of assigned to cluster  3\n",
      "----------------------------------------------------------------------\n",
      " Those hours that with gentle work did frame The lovely gaze where every eye doth dwell Will play the tyrants to the very same, And that unfair which fairly doth excel: For never-resting time leads summer on To hideous winter and confounds him there, Sap checked with frost and lusty leaves quite gone, Beauty oâ€™er-snowed and bareness every where: Then were not summerâ€™s distillation left A liquid prisoner pent in walls of glass, Beautyâ€™s effect with beauty were bereft, Nor it nor no remembrance what it was. But flowers distilled though they with winter meet, Leese but their show, their substance still lives sweet.  \n",
      "\n",
      "\n",
      "______________________________________________________________________\n",
      "A sonnet of assigned to cluster  4\n",
      "----------------------------------------------------------------------\n",
      " Not marble, nor the gilded monuments Of princes shall outlive this powerful rhyme, But you shall shine more bright in these contents Than unswept stone, besmeared with sluttish time. When wasteful war shall statues overturn, And broils root out the work of masonry, Nor Mars his sword, nor warâ€™s quick fire shall burn: The living record of your memory. â€™Gainst death, and all-oblivious enmity Shall you pace forth, your praise shall still find room, Even in the eyes of all posterity That wear this world out to the ending doom. So till the judgment that your self arise, You live in this, and dwell in loversâ€™ eyes.  \n",
      "\n",
      "\n",
      "______________________________________________________________________\n",
      "A sonnet of assigned to cluster  5\n",
      "----------------------------------------------------------------------\n",
      " From fairest creatures we desire increase, That thereby beautyâ€™s rose might never die, But as the riper should by time decease, His tender heir might bear his memory: But thou contracted to thine own bright eyes, Feedâ€™st thy lightâ€™s flame with self-substantial fuel, Making a famine where abundance lies, Thy self thy foe, to thy sweet self too cruel: Thou that art now the worldâ€™s fresh ornament, And only herald to the gaudy spring, Within thine own bud buriest thy content, And, tender churl, makâ€™st waste in niggarding: Pity the world, or else this glutton be, To eat the worldâ€™s due, by the grave and thee.  \n",
      "\n",
      "\n",
      "______________________________________________________________________\n",
      "A sonnet of assigned to cluster  6\n",
      "----------------------------------------------------------------------\n",
      " Lo in the orient when the gracious light Lifts up his burning head, each under eye Doth homage to his new-appearing sight, Serving with looks his sacred majesty, And having climbed the steep-up heavenly hill, Resembling strong youth in his middle age, Yet mortal looks adore his beauty still, Attending on his golden pilgrimage: But when from highmost pitch with weary car, Like feeble age he reeleth from the day, The eyes (fore duteous) now converted are From his low tract and look another way: So thou, thy self out-going in thy noon: Unlooked on diest unless thou get a son.  \n",
      "\n",
      "\n",
      "______________________________________________________________________\n",
      "A sonnet of assigned to cluster  7\n",
      "----------------------------------------------------------------------\n",
      " When forty winters shall besiege thy brow, And dig deep trenches in thy beautyâ€™s field, Thy youthâ€™s proud livery so gazed on now, Will be a tattered weed of small worth held: Then being asked, where all thy beauty lies, Where all the treasure of thy lusty days; To say, within thine own deep sunken eyes, Were an all-eating shame, and thriftless praise. How much more praise deservâ€™d thy beautyâ€™s use, If thou couldst answer â€˜This fair child of mine Shall sum my count, and make my old excuse,â€™ Proving his beauty by succession thine. This were to be new made when thou art old, And see thy blood warm when thou feelâ€™st it cold.  \n",
      "\n",
      "\n",
      "______________________________________________________________________\n",
      "A sonnet of assigned to cluster  8\n",
      "----------------------------------------------------------------------\n",
      " Mine eye and heart are at a mortal war, How to divide the conquest of thy sight, Mine eye, my heart thy pictureâ€™s sight would bar, My heart, mine eye the freedom of that right, My heart doth plead that thou in him dost lie, (A closet never pierced with crystal eyes) But the defendant doth that plea deny, And says in him thy fair appearance lies. To side this title is impanelled A quest of thoughts, all tenants to the heart, And by their verdict is determined The clear eyeâ€™s moiety, and the dear heartâ€™s part. As thus, mine eyeâ€™s due is thy outward part, And my heartâ€™s right, thy inward love of heart.  \n",
      "\n",
      "\n",
      "______________________________________________________________________\n"
     ]
    }
   ],
   "source": [
    "# Reading a sonet which belong to each group.\n",
    "for i in range(optimal_clusters):\n",
    "    print(\"A sonnet of assigned to cluster \", i)\n",
    "    print(\"-\" * 70)\n",
    "    print(df.iloc[df.groupby(['Label']).groups[i][0]]['sonnet'])\n",
    "    print('\\n')\n",
    "    print(\"_\" * 70)"
   ]
  }
 ],
 "metadata": {
  "kernelspec": {
   "display_name": "Python 3",
   "language": "python",
   "name": "python3"
  },
  "language_info": {
   "codemirror_mode": {
    "name": "ipython",
    "version": 3
   },
   "file_extension": ".py",
   "mimetype": "text/x-python",
   "name": "python",
   "nbconvert_exporter": "python",
   "pygments_lexer": "ipython3",
   "version": "3.6.2"
  }
 },
 "nbformat": 4,
 "nbformat_minor": 2
}
